{
  "nbformat": 4,
  "nbformat_minor": 0,
  "metadata": {
    "colab": {
      "name": "Project:Introduction to Regression.ipynb",
      "provenance": [],
      "collapsed_sections": []
    },
    "kernelspec": {
      "name": "python3",
      "display_name": "Python 3"
    },
    "language_info": {
      "name": "python"
    }
  },
  "cells": [
    {
      "cell_type": "markdown",
      "metadata": {
        "id": "Tkv_cjTXNZiW"
      },
      "source": [
        "Research question:\n",
        "\n",
        "\n",
        "Developing  a model that will pick the right plan for Megaline mobile carrier newer plans\n",
        "\n",
        "Define the metric for success\n",
        "\n",
        "Having a model that will recommend the right plan and meets the accuracy threshold of 0.75"
      ]
    },
    {
      "cell_type": "markdown",
      "metadata": {
        "id": "dOHr0oOP4DW0"
      },
      "source": [
        "Background  Statement\n",
        "\n",
        "Mobile carrier Megaline has found out that many of their subscribers use legacy plans.\n",
        "They want to develop a model that would analyze subscribers' behavior and recommend\n",
        "one of Megaline's newer plans: Smart or Ultra.\n",
        "You have access to behavior data about subscribers who have already switched to the\n",
        "new plans (from the project for the Statistical Data Analysis course). For this\n",
        "classification task, you need to develop a model that will pick the right plan. Since you’ve\n",
        "already performed the data preprocessing step, you can move straight to creating the\n",
        "model.\n",
        "\n",
        "Develop a model with the highest possible accuracy. In this project, the threshold for\n",
        "accuracy is 0.75. Check the accuracy using the test dataset.\n",
        "\n",
        "Record the experimental design\n",
        "\n",
        "1.Data Importation\n",
        "2. Data Exploration\n",
        "3. Data Preparation and Cleaning\n",
        "4. Data Modeling \n",
        "(Using Decision Trees, Random Forest and Logistic Regression)\n",
        "5. Hyparameter Tuning\n",
        "6. Model Evaluation\n",
        "7. Sanity check\n",
        "8. Findings and Recommendation"
      ]
    },
    {
      "cell_type": "markdown",
      "metadata": {
        "id": "2-yDM3y16X0L"
      },
      "source": [
        "Data Importation"
      ]
    },
    {
      "cell_type": "code",
      "metadata": {
        "id": "2PptGPoT4Skv"
      },
      "source": [
        "#Importing the libraries that we need\n",
        "import numpy as np \n",
        "import pandas as pd"
      ],
      "execution_count": null,
      "outputs": []
    },
    {
      "cell_type": "code",
      "metadata": {
        "id": "wK8wCsQS7GV5"
      },
      "source": [
        "#Loading dataset\n",
        "df = pd.read_csv('https://bit.ly/UsersBehaviourTelco')\n"
      ],
      "execution_count": null,
      "outputs": []
    },
    {
      "cell_type": "markdown",
      "metadata": {
        "id": "YyvSjwMv8Gfh"
      },
      "source": [
        "Data Exploration"
      ]
    },
    {
      "cell_type": "code",
      "metadata": {
        "colab": {
          "base_uri": "https://localhost:8080/",
          "height": 203
        },
        "id": "h_Qn4ov07xpa",
        "outputId": "fb2df155-6565-495a-ab5a-b78781e09c49"
      },
      "source": [
        "#Previewing our first five values in our dataset\n",
        "df.head()"
      ],
      "execution_count": null,
      "outputs": [
        {
          "output_type": "execute_result",
          "data": {
            "text/html": [
              "<div>\n",
              "<style scoped>\n",
              "    .dataframe tbody tr th:only-of-type {\n",
              "        vertical-align: middle;\n",
              "    }\n",
              "\n",
              "    .dataframe tbody tr th {\n",
              "        vertical-align: top;\n",
              "    }\n",
              "\n",
              "    .dataframe thead th {\n",
              "        text-align: right;\n",
              "    }\n",
              "</style>\n",
              "<table border=\"1\" class=\"dataframe\">\n",
              "  <thead>\n",
              "    <tr style=\"text-align: right;\">\n",
              "      <th></th>\n",
              "      <th>calls</th>\n",
              "      <th>minutes</th>\n",
              "      <th>messages</th>\n",
              "      <th>mb_used</th>\n",
              "      <th>is_ultra</th>\n",
              "    </tr>\n",
              "  </thead>\n",
              "  <tbody>\n",
              "    <tr>\n",
              "      <th>0</th>\n",
              "      <td>40.0</td>\n",
              "      <td>311.90</td>\n",
              "      <td>83.0</td>\n",
              "      <td>19915.42</td>\n",
              "      <td>0</td>\n",
              "    </tr>\n",
              "    <tr>\n",
              "      <th>1</th>\n",
              "      <td>85.0</td>\n",
              "      <td>516.75</td>\n",
              "      <td>56.0</td>\n",
              "      <td>22696.96</td>\n",
              "      <td>0</td>\n",
              "    </tr>\n",
              "    <tr>\n",
              "      <th>2</th>\n",
              "      <td>77.0</td>\n",
              "      <td>467.66</td>\n",
              "      <td>86.0</td>\n",
              "      <td>21060.45</td>\n",
              "      <td>0</td>\n",
              "    </tr>\n",
              "    <tr>\n",
              "      <th>3</th>\n",
              "      <td>106.0</td>\n",
              "      <td>745.53</td>\n",
              "      <td>81.0</td>\n",
              "      <td>8437.39</td>\n",
              "      <td>1</td>\n",
              "    </tr>\n",
              "    <tr>\n",
              "      <th>4</th>\n",
              "      <td>66.0</td>\n",
              "      <td>418.74</td>\n",
              "      <td>1.0</td>\n",
              "      <td>14502.75</td>\n",
              "      <td>0</td>\n",
              "    </tr>\n",
              "  </tbody>\n",
              "</table>\n",
              "</div>"
            ],
            "text/plain": [
              "   calls  minutes  messages   mb_used  is_ultra\n",
              "0   40.0   311.90      83.0  19915.42         0\n",
              "1   85.0   516.75      56.0  22696.96         0\n",
              "2   77.0   467.66      86.0  21060.45         0\n",
              "3  106.0   745.53      81.0   8437.39         1\n",
              "4   66.0   418.74       1.0  14502.75         0"
            ]
          },
          "metadata": {},
          "execution_count": 15
        }
      ]
    },
    {
      "cell_type": "code",
      "metadata": {
        "colab": {
          "base_uri": "https://localhost:8080/",
          "height": 203
        },
        "id": "z6TbZJ1p70Vi",
        "outputId": "34c7ea87-281e-468c-be21-7e457d186c31"
      },
      "source": [
        "#Previewing our lasst  five values in our dataset\n",
        "df.tail()"
      ],
      "execution_count": null,
      "outputs": [
        {
          "output_type": "execute_result",
          "data": {
            "text/html": [
              "<div>\n",
              "<style scoped>\n",
              "    .dataframe tbody tr th:only-of-type {\n",
              "        vertical-align: middle;\n",
              "    }\n",
              "\n",
              "    .dataframe tbody tr th {\n",
              "        vertical-align: top;\n",
              "    }\n",
              "\n",
              "    .dataframe thead th {\n",
              "        text-align: right;\n",
              "    }\n",
              "</style>\n",
              "<table border=\"1\" class=\"dataframe\">\n",
              "  <thead>\n",
              "    <tr style=\"text-align: right;\">\n",
              "      <th></th>\n",
              "      <th>calls</th>\n",
              "      <th>minutes</th>\n",
              "      <th>messages</th>\n",
              "      <th>mb_used</th>\n",
              "      <th>is_ultra</th>\n",
              "    </tr>\n",
              "  </thead>\n",
              "  <tbody>\n",
              "    <tr>\n",
              "      <th>3209</th>\n",
              "      <td>122.0</td>\n",
              "      <td>910.98</td>\n",
              "      <td>20.0</td>\n",
              "      <td>35124.90</td>\n",
              "      <td>1</td>\n",
              "    </tr>\n",
              "    <tr>\n",
              "      <th>3210</th>\n",
              "      <td>25.0</td>\n",
              "      <td>190.36</td>\n",
              "      <td>0.0</td>\n",
              "      <td>3275.61</td>\n",
              "      <td>0</td>\n",
              "    </tr>\n",
              "    <tr>\n",
              "      <th>3211</th>\n",
              "      <td>97.0</td>\n",
              "      <td>634.44</td>\n",
              "      <td>70.0</td>\n",
              "      <td>13974.06</td>\n",
              "      <td>0</td>\n",
              "    </tr>\n",
              "    <tr>\n",
              "      <th>3212</th>\n",
              "      <td>64.0</td>\n",
              "      <td>462.32</td>\n",
              "      <td>90.0</td>\n",
              "      <td>31239.78</td>\n",
              "      <td>0</td>\n",
              "    </tr>\n",
              "    <tr>\n",
              "      <th>3213</th>\n",
              "      <td>80.0</td>\n",
              "      <td>566.09</td>\n",
              "      <td>6.0</td>\n",
              "      <td>29480.52</td>\n",
              "      <td>1</td>\n",
              "    </tr>\n",
              "  </tbody>\n",
              "</table>\n",
              "</div>"
            ],
            "text/plain": [
              "      calls  minutes  messages   mb_used  is_ultra\n",
              "3209  122.0   910.98      20.0  35124.90         1\n",
              "3210   25.0   190.36       0.0   3275.61         0\n",
              "3211   97.0   634.44      70.0  13974.06         0\n",
              "3212   64.0   462.32      90.0  31239.78         0\n",
              "3213   80.0   566.09       6.0  29480.52         1"
            ]
          },
          "metadata": {},
          "execution_count": 16
        }
      ]
    },
    {
      "cell_type": "code",
      "metadata": {
        "colab": {
          "base_uri": "https://localhost:8080/"
        },
        "id": "j7d9hc-i7Zmo",
        "outputId": "bcde273e-5a3e-4b70-d3c4-b3c987184329"
      },
      "source": [
        "#preview the size of our dataset\n",
        "df.shape"
      ],
      "execution_count": null,
      "outputs": [
        {
          "output_type": "execute_result",
          "data": {
            "text/plain": [
              "(3214, 5)"
            ]
          },
          "metadata": {},
          "execution_count": 17
        }
      ]
    },
    {
      "cell_type": "code",
      "metadata": {
        "colab": {
          "base_uri": "https://localhost:8080/",
          "height": 297
        },
        "id": "5NhGOGXo7doj",
        "outputId": "c5254525-2e39-4632-833e-7abcce6657a3"
      },
      "source": [
        "#Previewing the summary of our dataset\n",
        "df.describe()"
      ],
      "execution_count": null,
      "outputs": [
        {
          "output_type": "execute_result",
          "data": {
            "text/html": [
              "<div>\n",
              "<style scoped>\n",
              "    .dataframe tbody tr th:only-of-type {\n",
              "        vertical-align: middle;\n",
              "    }\n",
              "\n",
              "    .dataframe tbody tr th {\n",
              "        vertical-align: top;\n",
              "    }\n",
              "\n",
              "    .dataframe thead th {\n",
              "        text-align: right;\n",
              "    }\n",
              "</style>\n",
              "<table border=\"1\" class=\"dataframe\">\n",
              "  <thead>\n",
              "    <tr style=\"text-align: right;\">\n",
              "      <th></th>\n",
              "      <th>calls</th>\n",
              "      <th>minutes</th>\n",
              "      <th>messages</th>\n",
              "      <th>mb_used</th>\n",
              "      <th>is_ultra</th>\n",
              "    </tr>\n",
              "  </thead>\n",
              "  <tbody>\n",
              "    <tr>\n",
              "      <th>count</th>\n",
              "      <td>3214.000000</td>\n",
              "      <td>3214.000000</td>\n",
              "      <td>3214.000000</td>\n",
              "      <td>3214.000000</td>\n",
              "      <td>3214.000000</td>\n",
              "    </tr>\n",
              "    <tr>\n",
              "      <th>mean</th>\n",
              "      <td>63.038892</td>\n",
              "      <td>438.208787</td>\n",
              "      <td>38.281269</td>\n",
              "      <td>17207.673836</td>\n",
              "      <td>0.306472</td>\n",
              "    </tr>\n",
              "    <tr>\n",
              "      <th>std</th>\n",
              "      <td>33.236368</td>\n",
              "      <td>234.569872</td>\n",
              "      <td>36.148326</td>\n",
              "      <td>7570.968246</td>\n",
              "      <td>0.461100</td>\n",
              "    </tr>\n",
              "    <tr>\n",
              "      <th>min</th>\n",
              "      <td>0.000000</td>\n",
              "      <td>0.000000</td>\n",
              "      <td>0.000000</td>\n",
              "      <td>0.000000</td>\n",
              "      <td>0.000000</td>\n",
              "    </tr>\n",
              "    <tr>\n",
              "      <th>25%</th>\n",
              "      <td>40.000000</td>\n",
              "      <td>274.575000</td>\n",
              "      <td>9.000000</td>\n",
              "      <td>12491.902500</td>\n",
              "      <td>0.000000</td>\n",
              "    </tr>\n",
              "    <tr>\n",
              "      <th>50%</th>\n",
              "      <td>62.000000</td>\n",
              "      <td>430.600000</td>\n",
              "      <td>30.000000</td>\n",
              "      <td>16943.235000</td>\n",
              "      <td>0.000000</td>\n",
              "    </tr>\n",
              "    <tr>\n",
              "      <th>75%</th>\n",
              "      <td>82.000000</td>\n",
              "      <td>571.927500</td>\n",
              "      <td>57.000000</td>\n",
              "      <td>21424.700000</td>\n",
              "      <td>1.000000</td>\n",
              "    </tr>\n",
              "    <tr>\n",
              "      <th>max</th>\n",
              "      <td>244.000000</td>\n",
              "      <td>1632.060000</td>\n",
              "      <td>224.000000</td>\n",
              "      <td>49745.730000</td>\n",
              "      <td>1.000000</td>\n",
              "    </tr>\n",
              "  </tbody>\n",
              "</table>\n",
              "</div>"
            ],
            "text/plain": [
              "             calls      minutes     messages       mb_used     is_ultra\n",
              "count  3214.000000  3214.000000  3214.000000   3214.000000  3214.000000\n",
              "mean     63.038892   438.208787    38.281269  17207.673836     0.306472\n",
              "std      33.236368   234.569872    36.148326   7570.968246     0.461100\n",
              "min       0.000000     0.000000     0.000000      0.000000     0.000000\n",
              "25%      40.000000   274.575000     9.000000  12491.902500     0.000000\n",
              "50%      62.000000   430.600000    30.000000  16943.235000     0.000000\n",
              "75%      82.000000   571.927500    57.000000  21424.700000     1.000000\n",
              "max     244.000000  1632.060000   224.000000  49745.730000     1.000000"
            ]
          },
          "metadata": {},
          "execution_count": 18
        }
      ]
    },
    {
      "cell_type": "code",
      "metadata": {
        "colab": {
          "base_uri": "https://localhost:8080/"
        },
        "id": "nJ0GGA2-7hYY",
        "outputId": "1f536381-338d-424c-b286-aae319e1c9ed"
      },
      "source": [
        "df.info()"
      ],
      "execution_count": null,
      "outputs": [
        {
          "output_type": "stream",
          "name": "stdout",
          "text": [
            "<class 'pandas.core.frame.DataFrame'>\n",
            "RangeIndex: 3214 entries, 0 to 3213\n",
            "Data columns (total 5 columns):\n",
            " #   Column    Non-Null Count  Dtype  \n",
            "---  ------    --------------  -----  \n",
            " 0   calls     3214 non-null   float64\n",
            " 1   minutes   3214 non-null   float64\n",
            " 2   messages  3214 non-null   float64\n",
            " 3   mb_used   3214 non-null   float64\n",
            " 4   is_ultra  3214 non-null   int64  \n",
            "dtypes: float64(4), int64(1)\n",
            "memory usage: 125.7 KB\n"
          ]
        }
      ]
    },
    {
      "cell_type": "markdown",
      "metadata": {
        "id": "xVcgxdp1XI6I"
      },
      "source": [
        "● сalls — number of calls,\n",
        "\n",
        "● minutes — total call duration in minutes,\n",
        "\n",
        "● messages — number of text messages,\n",
        "\n",
        "● mb_used — Internet traffic used in MB,\n",
        "\n",
        "● is_ultra — plan for the current month (Ultra - 1, Smart - 0)."
      ]
    },
    {
      "cell_type": "markdown",
      "metadata": {
        "id": "J-tIk0gbJ9GO"
      },
      "source": [
        "Data Preparation "
      ]
    },
    {
      "cell_type": "code",
      "metadata": {
        "colab": {
          "base_uri": "https://localhost:8080/"
        },
        "id": "qEHGpQKEMaeF",
        "outputId": "31131650-6839-49d4-8c81-f379dbf96cc5"
      },
      "source": [
        "#Finding null values in our df\n",
        "df.isnull().sum()"
      ],
      "execution_count": null,
      "outputs": [
        {
          "output_type": "execute_result",
          "data": {
            "text/plain": [
              "calls       0\n",
              "minutes     0\n",
              "messages    0\n",
              "mb_used     0\n",
              "is_ultra    0\n",
              "dtype: int64"
            ]
          },
          "metadata": {},
          "execution_count": 20
        }
      ]
    },
    {
      "cell_type": "code",
      "metadata": {
        "colab": {
          "base_uri": "https://localhost:8080/"
        },
        "id": "iiCaxA7zXl-g",
        "outputId": "24cd3704-0a4c-4da0-f938-fa616e6b98ed"
      },
      "source": [
        "#Checking duplicates in our dataset\n",
        "sum(df.duplicated())\n",
        "\n",
        "#Our dataset has duplicate values"
      ],
      "execution_count": null,
      "outputs": [
        {
          "output_type": "execute_result",
          "data": {
            "text/plain": [
              "0"
            ]
          },
          "metadata": {},
          "execution_count": 21
        }
      ]
    },
    {
      "cell_type": "markdown",
      "metadata": {
        "id": "JwNpD2o4aLle"
      },
      "source": [
        "Data Modeling\n",
        "\n",
        "Train,evaluate and prediction a model."
      ]
    },
    {
      "cell_type": "code",
      "metadata": {
        "id": "7oX-QfCJYmcN"
      },
      "source": [
        "# Import train_test_split from the sklearn.model_selection module\n",
        "from sklearn.model_selection import train_test_split\n"
      ],
      "execution_count": null,
      "outputs": []
    },
    {
      "cell_type": "code",
      "metadata": {
        "colab": {
          "base_uri": "https://localhost:8080/"
        },
        "id": "vcuInIhubM3m",
        "outputId": "89ff5ce4-10ee-4f02-ad5b-7bc33de3f094"
      },
      "source": [
        "#split the data into train, validation, and test sets\n",
        "# Let's  split the data in 80:10:10 for train:valid:test dataset\n",
        "train_size=0.8\n",
        "\n",
        "features = df.drop(columns = ['is_ultra']).copy()\n",
        "target = df['is_ultra']\n",
        "# In the first step we will split the data in training and remaining dataset\n",
        "features_train, features_rem, target_train, target_rem = train_test_split(X,y, train_size=0.8,random_state=12345)\n",
        "# Now since we want the valid and test size to be equal (10% each of overall data). \n",
        "# we have to define valid_size=0.5 (that is 50% of remaining data)\n",
        "test_size = 0.5\n",
        "features_valid, features_test, features_valid, features_test = train_test_split(features_rem,target_rem, test_size=0.5,random_state=12345)\n",
        "print(features_train.shape), print(target_train.shape)\n",
        "print(features_valid.shape), print(target_valid.shape)\n",
        "print(features_test.shape), print(features_test.shape)"
      ],
      "execution_count": null,
      "outputs": [
        {
          "output_type": "stream",
          "name": "stdout",
          "text": [
            "(2571, 4)\n",
            "(2571,)\n",
            "(321,)\n",
            "(1286,)\n",
            "(322,)\n",
            "(322,)\n"
          ]
        },
        {
          "output_type": "execute_result",
          "data": {
            "text/plain": [
              "(None, None)"
            ]
          },
          "metadata": {},
          "execution_count": 40
        }
      ]
    },
    {
      "cell_type": "markdown",
      "metadata": {
        "id": "2nl2A4v1yteU"
      },
      "source": [
        "Hyparameter Tuning\n",
        "\n",
        "1.Decision Tree Classifier model"
      ]
    },
    {
      "cell_type": "code",
      "metadata": {
        "colab": {
          "base_uri": "https://localhost:8080/"
        },
        "id": "nPPTCSiZy02c",
        "outputId": "f8e0274f-2a22-4478-8d54-deaf9284512c"
      },
      "source": [
        "#Since we have already split our data we just proceed to  build and fit our model\n",
        "#We now fit the model to determine the accuracy using Decision Trees\n",
        "from sklearn.tree import DecisionTreeClassifier\n",
        "from sklearn.metrics import accuracy_score\n",
        "from sklearn import metrics\n",
        "import numpy as np\n",
        "\n",
        "\n",
        "features=df.drop('is_ultra',axis=1)\n",
        "target=df['is_ultra']\n",
        "print(features.shape)\n",
        "print(target.shape)\n",
        "\n"
      ],
      "execution_count": null,
      "outputs": [
        {
          "output_type": "stream",
          "name": "stdout",
          "text": [
            "(3214, 4)\n",
            "(3214,)\n"
          ]
        }
      ]
    },
    {
      "cell_type": "code",
      "metadata": {
        "colab": {
          "base_uri": "https://localhost:8080/"
        },
        "id": "mGqe43t-43pj",
        "outputId": "814a66f2-e005-4477-f142-a1b2d94efbfd"
      },
      "source": [
        "\n",
        "features_train,features_test,target_train,target_test=train_test_split(features,target,test_size=0.25,random_state=12345)\n",
        "print(features_train.shape, target_train.shape,features_test.shape, target_test.shape)"
      ],
      "execution_count": null,
      "outputs": [
        {
          "output_type": "stream",
          "name": "stdout",
          "text": [
            "(2410, 4) (2410,) (804, 4) (804,)\n"
          ]
        }
      ]
    },
    {
      "cell_type": "code",
      "metadata": {
        "colab": {
          "base_uri": "https://localhost:8080/"
        },
        "id": "oBGlcA6p408j",
        "outputId": "802dd207-b858-4846-eda9-c59eefa0518b"
      },
      "source": [
        "model=DecisionTreeClassifier(max_depth=3,criterion = 'gini',random_state=12345)\n",
        "model.fit(features_train,target_train)\n",
        "\n",
        "y_pred= model.predict(features_test)\n",
        "print('The model Accuracy is:{}'.format(accuracy_score(target_test,y_pred)))"
      ],
      "execution_count": null,
      "outputs": [
        {
          "output_type": "stream",
          "name": "stdout",
          "text": [
            "The model Accuracy is:0.7885572139303483\n"
          ]
        }
      ]
    },
    {
      "cell_type": "markdown",
      "metadata": {
        "id": "ikYAoM8Q6lbT"
      },
      "source": [
        "Validating my decision tree model"
      ]
    },
    {
      "cell_type": "code",
      "metadata": {
        "colab": {
          "base_uri": "https://localhost:8080/"
        },
        "id": "C3ptCUl46DV4",
        "outputId": "8aa8e48d-5b1b-44ce-dc6c-9ca4798c1edb"
      },
      "source": [
        "features_train, features_valid, target_train, target_valid = train_test_split(features, target, train_size=0.8,test_size=0.2,random_state=12345)\n",
        "print(features_train.shape, target_train.shape,features_valid.shape, target_valid.shape)"
      ],
      "execution_count": null,
      "outputs": [
        {
          "output_type": "stream",
          "name": "stdout",
          "text": [
            "(2571, 4) (2571,) (643, 4) (643,)\n"
          ]
        }
      ]
    },
    {
      "cell_type": "code",
      "metadata": {
        "colab": {
          "base_uri": "https://localhost:8080/"
        },
        "id": "m_O_-D9b8DzS",
        "outputId": "c41554ae-c43b-4de4-8113-fa9b74121b6f"
      },
      "source": [
        "model=DecisionTreeClassifier(max_depth=3,criterion = 'gini',random_state=12345)\n",
        "model.fit(features_train,target_train)\n",
        "\n",
        "y_pred= model.predict(features_valid)\n",
        "print('The model Accuracy is:{}'.format(accuracy_score(target_valid,y_pred)))"
      ],
      "execution_count": null,
      "outputs": [
        {
          "output_type": "stream",
          "name": "stdout",
          "text": [
            "The model Accuracy is:0.7838258164852255\n"
          ]
        }
      ]
    },
    {
      "cell_type": "markdown",
      "metadata": {
        "id": "BOQvOm8T8fWy"
      },
      "source": [
        "Our accuracy is 0.788557 for the decision tree whereas the accuracy for our validating data is 0.7838258\n",
        "\n",
        "Its normal for the accuracy of our validating data  to be lower hence showing that our model is not underfitting"
      ]
    },
    {
      "cell_type": "markdown",
      "metadata": {
        "id": "H5w5q1x99Jkp"
      },
      "source": [
        "2.Logistics Regression Model\n"
      ]
    },
    {
      "cell_type": "code",
      "metadata": {
        "colab": {
          "base_uri": "https://localhost:8080/"
        },
        "id": "AQ8dEjF88QQQ",
        "outputId": "c7d7676b-d079-4929-f8da-99340151e77f"
      },
      "source": [
        "from sklearn.linear_model import LogisticRegression\n",
        "\n",
        "features_train,features_test,target_train,target_test=train_test_split(features,target,test_size=0.25,random_state=12345)\n",
        "print(features_train.shape, target_train.shape,features_test.shape, target_test.shape)\n",
        "#Create model\n",
        "model = LogisticRegression(random_state=12345, solver='liblinear')\n",
        "#Fitting my model\n",
        "model.fit(features_train, target_train)\n",
        "\n",
        "print(model.score(features_train, target_train))"
      ],
      "execution_count": null,
      "outputs": [
        {
          "output_type": "stream",
          "name": "stdout",
          "text": [
            "(2410, 4) (2410,) (804, 4) (804,)\n",
            "0.7045643153526971\n"
          ]
        }
      ]
    },
    {
      "cell_type": "markdown",
      "metadata": {
        "id": "_qNv2rG0Bmcn"
      },
      "source": [
        "Validating my logistic regression model"
      ]
    },
    {
      "cell_type": "code",
      "metadata": {
        "colab": {
          "base_uri": "https://localhost:8080/"
        },
        "id": "WejVvi7oBx6f",
        "outputId": "360a4f5e-839c-4c73-bc26-867ff45d1b9a"
      },
      "source": [
        "features_train, features_valid, target_train, target_valid = train_test_split(features, target, train_size=0.8,test_size=0.2,random_state=12345)\n",
        "print(features_train.shape, target_train.shape,features_valid.shape, target_valid.shape)\n",
        "\n",
        "\n",
        "model = LogisticRegression(random_state=12345, solver='liblinear')\n",
        "#Fitting my model\n",
        "model.fit(features_valid, target_valid)\n",
        "\n",
        "print(model.score(features_valid, target_valid))\n"
      ],
      "execution_count": null,
      "outputs": [
        {
          "output_type": "stream",
          "name": "stdout",
          "text": [
            "(2571, 4) (2571,) (643, 4) (643,)\n",
            "0.702954898911353\n"
          ]
        }
      ]
    },
    {
      "cell_type": "markdown",
      "metadata": {
        "id": "vJwd_a0aFRUF"
      },
      "source": [
        "3.Random Forest Regressor"
      ]
    },
    {
      "cell_type": "code",
      "metadata": {
        "colab": {
          "base_uri": "https://localhost:8080/"
        },
        "id": "5UuSUYtuCyNe",
        "outputId": "ec7d52cb-54c0-4291-f418-036ba5638346"
      },
      "source": [
        "from sklearn.ensemble import RandomForestRegressor\n",
        "#creating model \n",
        "model = RandomForestRegressor(n_estimators=40, random_state=54321)\n",
        "\n",
        "#Train the model\n",
        "model.fit(features_train, target_train)\n",
        "\n",
        "print(model.score(features_train, target_train))"
      ],
      "execution_count": null,
      "outputs": [
        {
          "output_type": "stream",
          "name": "stdout",
          "text": [
            "0.8973141413607986\n"
          ]
        }
      ]
    },
    {
      "cell_type": "markdown",
      "metadata": {
        "id": "PlpsWdAADqnm"
      },
      "source": [
        "validating"
      ]
    },
    {
      "cell_type": "code",
      "metadata": {
        "colab": {
          "base_uri": "https://localhost:8080/"
        },
        "id": "9sdKgz_UDuo3",
        "outputId": "9c4c63d8-9105-48eb-e593-5f18c0e7e3e3"
      },
      "source": [
        "#creating model \n",
        "model = RandomForestRegressor(n_estimators=40, random_state=54321)\n",
        "\n",
        "#Train the model\n",
        "model.fit(features_valid, target_valid)\n",
        "\n",
        "print(model.score(features_valid, target_valid))"
      ],
      "execution_count": null,
      "outputs": [
        {
          "output_type": "stream",
          "name": "stdout",
          "text": [
            "0.8918067659110624\n"
          ]
        }
      ]
    },
    {
      "cell_type": "markdown",
      "metadata": {
        "id": "b5fNHTQaEDSk"
      },
      "source": [
        "***Model evaluation***\n",
        "\n",
        "Decision Tree - 0.7885572139303483\n",
        "\n",
        "Linear regression - 0.7045643153526971\n",
        "\n",
        "Random forest - 0.8973141413607986\n",
        "\n",
        "\n",
        "\n",
        "Random Forest attained the highest accuracy score 0.897 .\n"
      ]
    },
    {
      "cell_type": "markdown",
      "metadata": {
        "id": "Hr7EbbWMFo7v"
      },
      "source": [
        "**Sanity** **check**"
      ]
    },
    {
      "cell_type": "code",
      "metadata": {
        "colab": {
          "base_uri": "https://localhost:8080/",
          "height": 332
        },
        "id": "lOQrMFNVFsIF",
        "outputId": "4165203b-a349-4daf-c284-615320de4647"
      },
      "source": [
        "#Obtain sanity check by counting the target variable's class frequencies\n",
        "# Count classes in the target feature on the test dataset using value_counts() method\n",
        "# We Make the frequencies relative (from 0 to 1)\n",
        "testfrequency = target_test.value_counts(normalize = True)\n",
        "# Print the frequencies on the screen\n",
        "print(testfrequency)\n",
        "# Display using plot() method\n",
        "\n",
        "testfrequency.plot(kind = 'bar')\n"
      ],
      "execution_count": null,
      "outputs": [
        {
          "output_type": "stream",
          "name": "stdout",
          "text": [
            "0    0.700249\n",
            "1    0.299751\n",
            "Name: is_ultra, dtype: float64\n"
          ]
        },
        {
          "output_type": "execute_result",
          "data": {
            "text/plain": [
              "<matplotlib.axes._subplots.AxesSubplot at 0x7f227ec31e10>"
            ]
          },
          "metadata": {},
          "execution_count": 64
        },
        {
          "output_type": "display_data",
          "data": {
            "image/png": "[encoded data removed]",
            "text/plain": [
              "<Figure size 432x288 with 1 Axes>"
            ]
          },
          "metadata": {
            "needs_background": "light"
          }
        }
      ]
    },
    {
      "cell_type": "markdown",
      "metadata": {
        "id": "ec7HchfZH-kk"
      },
      "source": [
        "Findings and Recommendation\n",
        "\n",
        "\n",
        "Random forest accuracy the model can be adopted by the company for the customers\n",
        "subscription plan since it has the highest accuracy score.\n"
      ]
    }
  ]
}